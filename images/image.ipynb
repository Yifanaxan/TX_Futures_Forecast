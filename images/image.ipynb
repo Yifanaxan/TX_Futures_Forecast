{
 "cells": [
  {
   "cell_type": "code",
   "execution_count": 1,
   "metadata": {},
   "outputs": [],
   "source": [
    "from PIL import Image\n",
    "\n",
    "# open the image file\n",
    "image = Image.open(\"bullbear7.jpg\")\n",
    "\n",
    "# set the size of the resized image\n",
    "new_size = (918, 344)\n",
    "\n",
    "# resize the image\n",
    "resized_image = image.resize(new_size)\n",
    "\n",
    "# save the resized image to a new file\n",
    "resized_image.save(\"resized_bullbear7.jpg\")\n"
   ]
  }
 ],
 "metadata": {
  "kernelspec": {
   "display_name": "Python 3",
   "language": "python",
   "name": "python3"
  },
  "language_info": {
   "codemirror_mode": {
    "name": "ipython",
    "version": 3
   },
   "file_extension": ".py",
   "mimetype": "text/x-python",
   "name": "python",
   "nbconvert_exporter": "python",
   "pygments_lexer": "ipython3",
   "version": "3.8.6"
  },
  "orig_nbformat": 4
 },
 "nbformat": 4,
 "nbformat_minor": 2
}
